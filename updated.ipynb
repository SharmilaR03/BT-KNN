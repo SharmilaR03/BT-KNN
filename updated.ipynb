{
  "cells": [
    {
      "cell_type": "markdown",
      "metadata": {
        "id": "view-in-github",
        "colab_type": "text"
      },
      "source": [
        "<a href=\"https://colab.research.google.com/github/SharmilaR03/BT-KNN/blob/main/updated.ipynb\" target=\"_parent\"><img src=\"https://colab.research.google.com/assets/colab-badge.svg\" alt=\"Open In Colab\"/></a>"
      ]
    },
    {
      "cell_type": "code",
      "execution_count": 1,
      "metadata": {
        "id": "-oFNrFR__gRf"
      },
      "outputs": [],
      "source": [
        "import pandas as pd\n",
        "import numpy as np\n",
        "import time\n",
        "from sklearn.model_selection import train_test_split\n",
        "from sklearn.preprocessing import StandardScaler, LabelEncoder\n",
        "from sklearn.neighbors import KNeighborsClassifier\n",
        "from sklearn.linear_model import LogisticRegression\n",
        "from sklearn.tree import DecisionTreeClassifier\n",
        "from sklearn.ensemble import RandomForestClassifier, GradientBoostingClassifier\n",
        "from sklearn.svm import SVC\n",
        "from sklearn.naive_bayes import GaussianNB\n",
        "from xgboost import XGBClassifier\n",
        "from lightgbm import LGBMClassifier\n",
        "from sklearn.neural_network import MLPClassifier\n",
        "from sklearn.metrics import accuracy_score, precision_score, recall_score, f1_score\n",
        "import warnings\n",
        "warnings.filterwarnings(\"ignore\")"
      ]
    },
    {
      "cell_type": "code",
      "execution_count": 3,
      "metadata": {
        "id": "VoZW8V57_mbF"
      },
      "outputs": [],
      "source": [
        "# Load dataset (replace with actual dataset path)\n",
        "df = pd.read_csv(\"/content/Tuesday-WorkingHours.pcap_ISCX.csv\")  # Replace with actual dataset file"
      ]
    },
    {
      "cell_type": "code",
      "execution_count": 4,
      "metadata": {
        "id": "lF3svv7z__R7"
      },
      "outputs": [],
      "source": [
        "# Convert categorical target variable to numeric\n",
        "label_encoder = LabelEncoder()\n",
        "df.iloc[:, -1] = label_encoder.fit_transform(df.iloc[:, -1])\n"
      ]
    },
    {
      "cell_type": "code",
      "execution_count": 5,
      "metadata": {
        "id": "ywvcH0AmAC0z"
      },
      "outputs": [],
      "source": [
        "# Ensure all feature columns are numeric\n",
        "df = df.apply(pd.to_numeric, errors='coerce')"
      ]
    },
    {
      "cell_type": "code",
      "execution_count": 6,
      "metadata": {
        "id": "mLKD_m42AZam"
      },
      "outputs": [],
      "source": [
        "# Handle missing and infinite values\n",
        "df.replace([np.inf, -np.inf], np.nan, inplace=True)\n",
        "df.fillna(df.median(), inplace=True)"
      ]
    },
    {
      "cell_type": "code",
      "execution_count": 7,
      "metadata": {
        "id": "F_tN2bblAGn7"
      },
      "outputs": [],
      "source": [
        "# Assume the last column is the target variable\n",
        "y = df.iloc[:, -1]\n",
        "X = df.iloc[:, :-1]"
      ]
    },
    {
      "cell_type": "code",
      "execution_count": 8,
      "metadata": {
        "id": "4cPr-9MSAJ_q"
      },
      "outputs": [],
      "source": [
        "# Split dataset\n",
        "X_train, X_test, y_train, y_test = train_test_split(X, y, test_size=0.2, random_state=42)"
      ]
    },
    {
      "cell_type": "code",
      "execution_count": 9,
      "metadata": {
        "id": "kvMwC86SFlND"
      },
      "outputs": [],
      "source": [
        "# Normalize features\n",
        "scaler = StandardScaler()\n",
        "X_train = scaler.fit_transform(X_train)\n",
        "X_test = scaler.transform(X_test)\n"
      ]
    },
    {
      "cell_type": "code",
      "execution_count": 10,
      "metadata": {
        "id": "Frph2MmYFonN"
      },
      "outputs": [],
      "source": [
        "# Check if GPU is available for LightGBM\n",
        "gpu_available = False\n",
        "try:\n",
        "    import lightgbm\n",
        "    gpu_available = lightgbm.basic._DeviceQuantizer().device_type == 'gpu'\n",
        "except:\n",
        "    pass"
      ]
    },
    {
      "cell_type": "code",
      "execution_count": 11,
      "metadata": {
        "id": "qUUd_ingFtMD"
      },
      "outputs": [],
      "source": [
        "# Define models (optimized for speed)\n",
        "models = {\n",
        "    \"KNN\": KNeighborsClassifier(n_neighbors=1, algorithm='ball_tree', n_jobs=-1),\n",
        "    \"Logistic Regression\": LogisticRegression(max_iter=50, solver='saga', tol=1e-3, n_jobs=-1),\n",
        "    \"Decision Tree\": DecisionTreeClassifier(max_depth=3),\n",
        "    \"Random Forest\": RandomForestClassifier(n_estimators=3, max_depth=3, n_jobs=-1),\n",
        "    \"SVM\": SVC(kernel='linear', max_iter=50, tol=1e-3),\n",
        "    \"Naive Bayes\": GaussianNB(),\n",
        "    \"Gradient Boosting\": GradientBoostingClassifier(n_estimators=3, max_depth=2, min_impurity_decrease=1e-3),\n",
        "    \"XGBoost\": XGBClassifier(use_label_encoder=False, eval_metric='logloss', n_estimators=3, max_depth=2, verbosity=0, subsample=0.5, tree_method='hist', n_jobs=-1),\n",
        "    \"LightGBM\": LGBMClassifier(n_estimators=3, max_depth=2, subsample=0.5, verbose=-1, device='gpu' if gpu_available else 'cpu'),\n",
        "    \"MLP (Neural Network)\": MLPClassifier(hidden_layer_sizes=(5,), max_iter=5, tol=1e-3)\n",
        "}\n"
      ]
    },
    {
      "cell_type": "code",
      "execution_count": 12,
      "metadata": {
        "colab": {
          "base_uri": "https://localhost:8080/"
        },
        "id": "_eJEct6kzciA",
        "outputId": "ab6a76e5-9a13-429b-8737-0118ce9a6273"
      },
      "outputs": [
        {
          "output_type": "stream",
          "name": "stdout",
          "text": [
            "Training KNN...\n",
            "KNN completed in 4.83 seconds.\n",
            "Training Logistic Regression...\n",
            "Logistic Regression completed in 1.7 seconds.\n",
            "Training Decision Tree...\n",
            "Decision Tree completed in 0.08 seconds.\n",
            "Training Random Forest...\n",
            "Random Forest completed in 0.07 seconds.\n",
            "Training SVM...\n",
            "SVM completed in 0.08 seconds.\n",
            "Training Naive Bayes...\n",
            "Naive Bayes completed in 0.03 seconds.\n",
            "Training Gradient Boosting...\n",
            "Gradient Boosting completed in 0.22 seconds.\n",
            "Training XGBoost...\n",
            "XGBoost completed in 0.26 seconds.\n",
            "Training LightGBM...\n",
            "LightGBM completed in 0.25 seconds.\n",
            "Training MLP (Neural Network)...\n",
            "MLP (Neural Network) completed in 0.18 seconds.\n"
          ]
        }
      ],
      "source": [
        "\n",
        "# Train and evaluate models with timing\n",
        "results = []\n",
        "max_training_time = 20  # Reduce max time per model to 20 seconds\n",
        "for name, model in models.items():\n",
        "    print(f\"Training {name}...\")\n",
        "    start_time = time.time()\n",
        "    try:\n",
        "        model.fit(X_train, y_train)\n",
        "        y_pred = model.predict(X_test)\n",
        "    except Exception as e:\n",
        "        print(f\"{name} training stopped early due to: {e}\")\n",
        "        continue\n",
        "    end_time = time.time()\n",
        "    elapsed_time = round(end_time - start_time, 2)\n",
        "    if elapsed_time > max_training_time:\n",
        "        print(f\"{name} exceeded max training time and was stopped.\")\n",
        "        continue\n",
        "\n",
        "    accuracy = accuracy_score(y_test, y_pred)\n",
        "    precision = precision_score(y_test, y_pred, average='macro')\n",
        "    recall = recall_score(y_test, y_pred, average='macro')\n",
        "    f1 = f1_score(y_test, y_pred, average='macro')\n",
        "\n",
        "    results.append([name, accuracy, precision, recall, f1, elapsed_time])\n",
        "    print(f\"{name} completed in {elapsed_time} seconds.\")\n",
        "\n"
      ]
    },
    {
      "cell_type": "code",
      "execution_count": 13,
      "metadata": {
        "id": "KsFznZL2Fwhx",
        "colab": {
          "base_uri": "https://localhost:8080/"
        },
        "outputId": "ae26597d-9b0f-437d-8dff-5a10916b9867"
      },
      "outputs": [
        {
          "output_type": "stream",
          "name": "stdout",
          "text": [
            "                  Model  Accuracy  Precision    Recall  F1-Score  \\\n",
            "0                   KNN  0.999674   0.999830  0.995833  0.997823   \n",
            "1   Logistic Regression  0.959896   0.480418  0.499491  0.489769   \n",
            "2         Decision Tree  0.999674   0.999830  0.995833  0.997823   \n",
            "3         Random Forest  0.997066   0.998478  0.962500  0.979757   \n",
            "4                   SVM  0.842843   0.598964  0.914225  0.620764   \n",
            "5           Naive Bayes  0.996739   0.964674  0.994306  0.978989   \n",
            "6     Gradient Boosting  0.960874   0.480437  0.500000  0.490023   \n",
            "7               XGBoost  0.999674   0.999830  0.995833  0.997823   \n",
            "8              LightGBM  0.960874   0.480437  0.500000  0.490023   \n",
            "9  MLP (Neural Network)  0.835018   0.477620  0.434510  0.455046   \n",
            "\n",
            "   Training Time (s)  \n",
            "0               4.83  \n",
            "1               1.70  \n",
            "2               0.08  \n",
            "3               0.07  \n",
            "4               0.08  \n",
            "5               0.03  \n",
            "6               0.22  \n",
            "7               0.26  \n",
            "8               0.25  \n",
            "9               0.18  \n"
          ]
        }
      ],
      "source": [
        "# Create results DataFrame\n",
        "results_df = pd.DataFrame(results, columns=[\"Model\", \"Accuracy\", \"Precision\", \"Recall\", \"F1-Score\", \"Training Time (s)\"])\n",
        "print(results_df)\n"
      ]
    },
    {
      "cell_type": "code",
      "source": [
        "# Save results to CSV\n",
        "results_df.to_csv(\"model_performance.csv\", index=False)\n"
      ],
      "metadata": {
        "id": "R9-clIow0rU5"
      },
      "execution_count": 14,
      "outputs": []
    },
    {
      "cell_type": "code",
      "source": [],
      "metadata": {
        "id": "nag3Xuvb0x94"
      },
      "execution_count": null,
      "outputs": []
    }
  ],
  "metadata": {
    "colab": {
      "provenance": [],
      "authorship_tag": "ABX9TyMDdyFF5H58l27o1AwzNgM0",
      "include_colab_link": true
    },
    "kernelspec": {
      "display_name": "Python 3",
      "name": "python3"
    },
    "language_info": {
      "name": "python"
    }
  },
  "nbformat": 4,
  "nbformat_minor": 0
}